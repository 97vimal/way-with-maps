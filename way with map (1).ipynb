{
 "cells": [
  {
   "cell_type": "markdown",
   "id": "cfa93332",
   "metadata": {},
   "source": [
    "# way with map"
   ]
  },
  {
   "cell_type": "code",
   "execution_count": null,
   "id": "fd1188b2",
   "metadata": {},
   "outputs": [],
   "source": [
    "# sample list: [1, 2, 3, 4, 5, 6, 7]\n"
   ]
  },
  {
   "cell_type": "code",
   "execution_count": null,
   "id": "728ad15f",
   "metadata": {},
   "outputs": [],
   "source": []
  },
  {
   "cell_type": "code",
   "execution_count": 2,
   "id": "74c1521a",
   "metadata": {},
   "outputs": [
    {
     "name": "stdout",
     "output_type": "stream",
     "text": [
      "Triple of said list numbers:\n",
      "[3, 6, 9, 12, 15, 18, 21]\n"
     ]
    }
   ],
   "source": [
    "value = (1, 2, 3, 4, 5, 6, 7) \n",
    "result = map(lambda x: x + x + x, value) \n",
    "print(\"Triple of said list numbers:\")\n",
    "print(list(result))"
   ]
  },
  {
   "cell_type": "code",
   "execution_count": null,
   "id": "5687f7d1",
   "metadata": {},
   "outputs": [],
   "source": []
  },
  {
   "cell_type": "code",
   "execution_count": 3,
   "id": "f1e109bd",
   "metadata": {
    "scrolled": true
   },
   "outputs": [
    {
     "name": "stdout",
     "output_type": "stream",
     "text": [
      "Enter List :  [1, 2, 3, 4, 5, 6, 7]\n",
      "The expected output is :  [3, 6, 9, 12, 15, 18, 21]\n"
     ]
    }
   ],
   "source": [
    "input_list = eval(input(\"Enter List : \"))\n",
    "final_output = map(lambda x:x*3 , input_list)\n",
    "print('The expected output is : ' , list(final_output))"
   ]
  },
  {
   "cell_type": "code",
   "execution_count": null,
   "id": "493fa8e7",
   "metadata": {},
   "outputs": [],
   "source": []
  }
 ],
 "metadata": {
  "kernelspec": {
   "display_name": "Python 3 (ipykernel)",
   "language": "python",
   "name": "python3"
  },
  "language_info": {
   "codemirror_mode": {
    "name": "ipython",
    "version": 3
   },
   "file_extension": ".py",
   "mimetype": "text/x-python",
   "name": "python",
   "nbconvert_exporter": "python",
   "pygments_lexer": "ipython3",
   "version": "3.9.7"
  }
 },
 "nbformat": 4,
 "nbformat_minor": 5
}
